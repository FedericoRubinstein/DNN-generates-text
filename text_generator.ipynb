{
  "nbformat": 4,
  "nbformat_minor": 0,
  "metadata": {
    "kernelspec": {
      "display_name": "Python 3",
      "language": "python",
      "name": "python3"
    },
    "language_info": {
      "codemirror_mode": {
        "name": "ipython",
        "version": 3
      },
      "file_extension": ".py",
      "mimetype": "text/x-python",
      "name": "python",
      "nbconvert_exporter": "python",
      "pygments_lexer": "ipython3",
      "version": "3.7.3"
    },
    "colab": {
      "name": "text_generator.ipynb",
      "provenance": []
    },
    "accelerator": "GPU"
  },
  "cells": [
    {
      "cell_type": "markdown",
      "metadata": {
        "id": "exlKASFW-mCF"
      },
      "source": [
        "# Text Generator\n",
        "This project implements a LSTM Deep Neural Network that is able to predict the next character of a string. By repeating this process multiple times the model can generate a sequence of text."
      ]
    },
    {
      "cell_type": "markdown",
      "metadata": {
        "id": "UR1c3yea-mCH"
      },
      "source": [
        "First, we start by importing:"
      ]
    },
    {
      "cell_type": "code",
      "metadata": {
        "id": "0z2pwPzf-mCI"
      },
      "source": [
        "import re\n",
        "import numpy as np\n",
        "import pandas as pd\n",
        "import tensorflow as tf\n",
        "from tensorflow.keras.models import Sequential\n",
        "from tensorflow.keras.layers import Dense, LSTM, Dropout, Embedding\n",
        "from tensorflow.keras.losses import SparseCategoricalCrossentropy\n",
        "from tensorflow.keras.callbacks import ModelCheckpoint\n",
        "from tensorflow import keras\n",
        "import matplotlib.pyplot as plt"
      ],
      "execution_count": 1,
      "outputs": []
    },
    {
      "cell_type": "markdown",
      "metadata": {
        "id": "WG_iXSlb-mCL"
      },
      "source": [
        "## Data Loading"
      ]
    },
    {
      "cell_type": "markdown",
      "metadata": {
        "id": "896KOdUz-mCM"
      },
      "source": [
        "Then, we load the database. In this case, I decided to use an three novels uploaded as .txt files available in https://www.gutenberg.org/. This is because these novels are no longer protected by copyright and are easily obtainable.\n",
        "I choose the following novels: \n",
        "* [The Adventures of Sherlock Holmes, by Arthur Conan Doyle](https://www.gutenberg.org/ebooks/1661)\n",
        "* [Pride and Prejudice by Jane Austen](https://www.gutenberg.org/ebooks/1342)\n",
        "* [Moby Dick; Or, The Whale by Herman Melville](https://www.gutenberg.org/ebooks/2701)\n"
      ]
    },
    {
      "cell_type": "code",
      "metadata": {
        "id": "cnpge3yUXzqP"
      },
      "source": [
        "sherlock_to_file = tf.keras.utils.get_file('1661-0.txt',\n",
        "                                       'https://www.gutenberg.org/files/1661/1661-0.txt')\n",
        "sherlock_raw_text = open(sherlock_to_file, 'rb').read().decode(encoding='utf-8')"
      ],
      "execution_count": 75,
      "outputs": []
    },
    {
      "cell_type": "code",
      "metadata": {
        "id": "Ax_BAC2uYezS",
        "outputId": "a2c847d4-3854-4672-8dfd-dce5cbea70c9",
        "colab": {
          "base_uri": "https://localhost:8080/",
          "height": 369
        }
      },
      "source": [
        "sherlock_raw_text = sherlock_raw_text[sherlock_raw_text.find(\"I. A SCANDAL IN BOHEMIA\") : sherlock_raw_text.find(\"End of the Project Gutenberg EBook of The Adventures of Sherlock Holmes\")]\n",
        "\n",
        "print(\"Beginning:\")\n",
        "print(sherlock_raw_text[:100])\n",
        "print(\"[...]\\n\\nEnding:\\n[...]\")\n",
        "print(sherlock_raw_text[-100:])"
      ],
      "execution_count": 76,
      "outputs": [
        {
          "output_type": "stream",
          "text": [
            "Beginning:\n",
            "I. A SCANDAL IN BOHEMIA\r\n",
            "\r\n",
            "\r\n",
            "I.\r\n",
            "\r\n",
            "To Sherlock Holmes she is always _the_ woman. I have seldom heard\n",
            "[...]\n",
            "\n",
            "Ending:\n",
            "[...]\n",
            "rivate school at\r\n",
            "Walsall, where I believe that she has met with considerable success.\r\n",
            "\r\n",
            "\r\n",
            "\r\n",
            "\r\n",
            "\r\n",
            "\r\n",
            "\n"
          ],
          "name": "stdout"
        }
      ]
    },
    {
      "cell_type": "code",
      "metadata": {
        "id": "xVsZMK9tMBXc"
      },
      "source": [
        "pride_to_file = tf.keras.utils.get_file('1342-0.txt',\n",
        "                                       'https://www.gutenberg.org/files/1342/1342-0.txt')\n",
        "pride_raw_text = open(pride_to_file, 'rb').read().decode(encoding='utf-8')"
      ],
      "execution_count": 86,
      "outputs": []
    },
    {
      "cell_type": "code",
      "metadata": {
        "id": "9osF8Z16MiqF",
        "outputId": "cc9a49cf-a4d4-4647-ca80-e1586ec7ec77",
        "colab": {
          "base_uri": "https://localhost:8080/",
          "height": 281
        }
      },
      "source": [
        "pride_raw_text = pride_raw_text[pride_raw_text.find(\"      Chapter 1\\r\\n\\r\\n      \") : pride_raw_text.find(\"End of the Project Gutenberg EBook of Pride and Prejudice, by Jane Austen\")]\n",
        "\n",
        "print(\"Beginning:\")\n",
        "print(pride_raw_text[:100])\n",
        "print(\"[...]\\n\\nEnding:\\n[...]\")\n",
        "print(pride_raw_text[-100:])"
      ],
      "execution_count": 88,
      "outputs": [
        {
          "output_type": "stream",
          "text": [
            "Beginning:\n",
            "      Chapter 1\r\n",
            "\r\n",
            "      It is a truth universally acknowledged, that a single man in\r\n",
            "      possess\n",
            "[...]\n",
            "\n",
            "Ending:\n",
            "[...]\n",
            "   who, by bringing her into Derbyshire, had been the means of\r\n",
            "      uniting them.\r\n",
            "    \r\n",
            "\r\n",
            "\r\n",
            "    \r\n"
          ],
          "name": "stdout"
        }
      ]
    },
    {
      "cell_type": "code",
      "metadata": {
        "id": "QtMfgJDsOACB"
      },
      "source": [
        "moby_to_file = tf.keras.utils.get_file('2701-0.txt',\n",
        "                                       'https://www.gutenberg.org/files/2701/2701-0.txt')\n",
        "moby_raw_text = open(moby_to_file, 'rb').read().decode(encoding='utf-8')"
      ],
      "execution_count": 96,
      "outputs": []
    },
    {
      "cell_type": "code",
      "metadata": {
        "id": "7Vq7PyBsOA-M",
        "outputId": "caa86c3c-757c-441a-9866-80dda0a4fe81",
        "colab": {
          "base_uri": "https://localhost:8080/",
          "height": 492
        }
      },
      "source": [
        "moby_raw_text = moby_raw_text[moby_raw_text.find(\"\\r\\n\\r\\nEpilogue\\r\\n\") : moby_raw_text.find(\"End of the Project Gutenberg EBook of Pride and Prejudice, by Jane Austen\")]\n",
        "\n",
        "print(\"Beginning:\")\n",
        "print(moby_raw_text[:100])\n",
        "print(\"[...]\\n\\nEnding:\\n[...]\")\n",
        "print(moby_raw_text[-100:])"
      ],
      "execution_count": 97,
      "outputs": [
        {
          "output_type": "stream",
          "text": [
            "Beginning:\n",
            "\r\n",
            "\r\n",
            "Epilogue\r\n",
            "\r\n",
            "\r\n",
            "\r\n",
            "\r\n",
            "Original Transcriber’s Notes:\r\n",
            "\r\n",
            "\r\n",
            "\r\n",
            "\r\n",
            "\r\n",
            "This text is a combination of etexts,\n",
            "[...]\n",
            "\n",
            "Ending:\n",
            "[...]\n",
            "our new eBooks, and how to\r\n",
            "subscribe to our email newsletter to hear about new eBooks.\r\n",
            "\r\n",
            "\r\n",
            "\r\n",
            "\r\n",
            "\r\n",
            "\r\n"
          ],
          "name": "stdout"
        }
      ]
    },
    {
      "cell_type": "code",
      "metadata": {
        "id": "njb9-ccvPmN4"
      },
      "source": [
        "raw_text = sherlock_raw_text + pride_raw_text + moby_raw_text  # Join the dataset\n",
        "text = re.sub(r'%|@|_|£|½|à|â|æ|è|é|œ|—|\\r|\\t|ê|Œ|η|ο|ς|τ|ϰ|ו|ח', '', raw_text)  # Delete unwanted chars"
      ],
      "execution_count": 98,
      "outputs": []
    },
    {
      "cell_type": "markdown",
      "metadata": {
        "id": "qqFuFAXq-mCQ"
      },
      "source": [
        "## Data Pre-processing"
      ]
    },
    {
      "cell_type": "code",
      "metadata": {
        "id": "rDhiZQbe-mCR",
        "outputId": "2a6c8634-911c-4ae4-a6dc-7b495962b8d4",
        "colab": {
          "base_uri": "https://localhost:8080/",
          "height": 160
        }
      },
      "source": [
        "vocabulary = sorted(set(text))\n",
        "voc_size = len(vocabulary)\n",
        "\n",
        "charToNum = {u:i for i, u in enumerate(vocabulary)}  # Dictionary that transforms chars to numbers\n",
        "numToChar = np.array(vocabulary)  # List that transforms numbers to chars\n",
        "\n",
        "print(\"The length of the vocabulary: \", len(vocabulary))\n",
        "print(charToNum)\n",
        "print(numToChar)"
      ],
      "execution_count": 104,
      "outputs": [
        {
          "output_type": "stream",
          "text": [
            "The length of the vocabulary:  83\n",
            "{'\\n': 0, ' ': 1, '!': 2, '$': 3, '&': 4, '(': 5, ')': 6, '*': 7, ',': 8, '-': 9, '.': 10, '/': 11, '0': 12, '1': 13, '2': 14, '3': 15, '4': 16, '5': 17, '6': 18, '7': 19, '8': 20, '9': 21, ':': 22, ';': 23, '?': 24, 'A': 25, 'B': 26, 'C': 27, 'D': 28, 'E': 29, 'F': 30, 'G': 31, 'H': 32, 'I': 33, 'J': 34, 'K': 35, 'L': 36, 'M': 37, 'N': 38, 'O': 39, 'P': 40, 'Q': 41, 'R': 42, 'S': 43, 'T': 44, 'U': 45, 'V': 46, 'W': 47, 'X': 48, 'Y': 49, 'Z': 50, '[': 51, ']': 52, 'a': 53, 'b': 54, 'c': 55, 'd': 56, 'e': 57, 'f': 58, 'g': 59, 'h': 60, 'i': 61, 'j': 62, 'k': 63, 'l': 64, 'm': 65, 'n': 66, 'o': 67, 'p': 68, 'q': 69, 'r': 70, 's': 71, 't': 72, 'u': 73, 'v': 74, 'w': 75, 'x': 76, 'y': 77, 'z': 78, '‘': 79, '’': 80, '“': 81, '”': 82}\n",
            "['\\n' ' ' '!' '$' '&' '(' ')' '*' ',' '-' '.' '/' '0' '1' '2' '3' '4' '5'\n",
            " '6' '7' '8' '9' ':' ';' '?' 'A' 'B' 'C' 'D' 'E' 'F' 'G' 'H' 'I' 'J' 'K'\n",
            " 'L' 'M' 'N' 'O' 'P' 'Q' 'R' 'S' 'T' 'U' 'V' 'W' 'X' 'Y' 'Z' '[' ']' 'a'\n",
            " 'b' 'c' 'd' 'e' 'f' 'g' 'h' 'i' 'j' 'k' 'l' 'm' 'n' 'o' 'p' 'q' 'r' 's'\n",
            " 't' 'u' 'v' 'w' 'x' 'y' 'z' '‘' '’' '“' '”']\n"
          ],
          "name": "stdout"
        }
      ]
    },
    {
      "cell_type": "code",
      "metadata": {
        "id": "3Yf23Ze4-mCU",
        "outputId": "52b1a822-5608-4206-e3b8-adcfeb0658d2",
        "colab": {
          "base_uri": "https://localhost:8080/",
          "height": 34
        }
      },
      "source": [
        "def textToNums(text):\n",
        "  return np.array([charToNum[char] for char in text]) \n",
        "\n",
        "text_in_nums = textToNums(text)\n",
        "text_in_nums"
      ],
      "execution_count": 105,
      "outputs": [
        {
          "output_type": "execute_result",
          "data": {
            "text/plain": [
              "array([33, 10,  1, ...,  0,  0,  0])"
            ]
          },
          "metadata": {
            "tags": []
          },
          "execution_count": 105
        }
      ]
    },
    {
      "cell_type": "code",
      "metadata": {
        "id": "ur_ZvdBJ-mCY"
      },
      "source": [
        "dataset = tf.data.Dataset.from_tensor_slices(text_in_nums)\n",
        "\n",
        "seq101 = dataset.batch(101, drop_remainder=True)\n",
        "\n"
      ],
      "execution_count": 106,
      "outputs": []
    },
    {
      "cell_type": "code",
      "metadata": {
        "id": "rzmVHXVF-mCb",
        "outputId": "68e45e16-9b1c-4d98-9a57-f3d1735ebdd6",
        "colab": {
          "base_uri": "https://localhost:8080/",
          "height": 263
        }
      },
      "source": [
        "seqX = seq101.map(lambda x: x[:-1])\n",
        "\n",
        "for item in seqX.take(2):  # Print two examples\n",
        "  print(len(item.numpy()))\n",
        "  print(numToChar[item.numpy()])"
      ],
      "execution_count": 107,
      "outputs": [
        {
          "output_type": "stream",
          "text": [
            "100\n",
            "['I' '.' ' ' 'A' ' ' 'S' 'C' 'A' 'N' 'D' 'A' 'L' ' ' 'I' 'N' ' ' 'B' 'O'\n",
            " 'H' 'E' 'M' 'I' 'A' '\\n' '\\n' '\\n' 'I' '.' '\\n' '\\n' 'T' 'o' ' ' 'S' 'h'\n",
            " 'e' 'r' 'l' 'o' 'c' 'k' ' ' 'H' 'o' 'l' 'm' 'e' 's' ' ' 's' 'h' 'e' ' '\n",
            " 'i' 's' ' ' 'a' 'l' 'w' 'a' 'y' 's' ' ' 't' 'h' 'e' ' ' 'w' 'o' 'm' 'a'\n",
            " 'n' '.' ' ' 'I' ' ' 'h' 'a' 'v' 'e' ' ' 's' 'e' 'l' 'd' 'o' 'm' ' ' 'h'\n",
            " 'e' 'a' 'r' 'd' ' ' 'h' 'i' 'm' '\\n' 'm' 'e']\n",
            "100\n",
            "['t' 'i' 'o' 'n' ' ' 'h' 'e' 'r' ' ' 'u' 'n' 'd' 'e' 'r' ' ' 'a' 'n' 'y'\n",
            " ' ' 'o' 't' 'h' 'e' 'r' ' ' 'n' 'a' 'm' 'e' '.' ' ' 'I' 'n' ' ' 'h' 'i'\n",
            " 's' ' ' 'e' 'y' 'e' 's' ' ' 's' 'h' 'e' ' ' 'e' 'c' 'l' 'i' 'p' 's' 'e'\n",
            " 's' ' ' 'a' 'n' 'd' '\\n' 'p' 'r' 'e' 'd' 'o' 'm' 'i' 'n' 'a' 't' 'e' 's'\n",
            " ' ' 't' 'h' 'e' ' ' 'w' 'h' 'o' 'l' 'e' ' ' 'o' 'f' ' ' 'h' 'e' 'r' ' '\n",
            " 's' 'e' 'x' '.' ' ' 'I' 't' ' ' 'w' 'a']\n"
          ],
          "name": "stdout"
        }
      ]
    },
    {
      "cell_type": "code",
      "metadata": {
        "id": "lwKCYXdO-mCe",
        "outputId": "6143e7e9-f1f4-487d-9e95-63d621bb8e7f",
        "colab": {
          "base_uri": "https://localhost:8080/",
          "height": 263
        }
      },
      "source": [
        "seqY = seq101.map(lambda x: x[1:])\n",
        "\n",
        "for item in seqY.take(2):  # Print two examples\n",
        "  print(len(item.numpy()))\n",
        "  print(numToChar[item.numpy()])"
      ],
      "execution_count": 108,
      "outputs": [
        {
          "output_type": "stream",
          "text": [
            "100\n",
            "['.' ' ' 'A' ' ' 'S' 'C' 'A' 'N' 'D' 'A' 'L' ' ' 'I' 'N' ' ' 'B' 'O' 'H'\n",
            " 'E' 'M' 'I' 'A' '\\n' '\\n' '\\n' 'I' '.' '\\n' '\\n' 'T' 'o' ' ' 'S' 'h' 'e'\n",
            " 'r' 'l' 'o' 'c' 'k' ' ' 'H' 'o' 'l' 'm' 'e' 's' ' ' 's' 'h' 'e' ' ' 'i'\n",
            " 's' ' ' 'a' 'l' 'w' 'a' 'y' 's' ' ' 't' 'h' 'e' ' ' 'w' 'o' 'm' 'a' 'n'\n",
            " '.' ' ' 'I' ' ' 'h' 'a' 'v' 'e' ' ' 's' 'e' 'l' 'd' 'o' 'm' ' ' 'h' 'e'\n",
            " 'a' 'r' 'd' ' ' 'h' 'i' 'm' '\\n' 'm' 'e' 'n']\n",
            "100\n",
            "['i' 'o' 'n' ' ' 'h' 'e' 'r' ' ' 'u' 'n' 'd' 'e' 'r' ' ' 'a' 'n' 'y' ' '\n",
            " 'o' 't' 'h' 'e' 'r' ' ' 'n' 'a' 'm' 'e' '.' ' ' 'I' 'n' ' ' 'h' 'i' 's'\n",
            " ' ' 'e' 'y' 'e' 's' ' ' 's' 'h' 'e' ' ' 'e' 'c' 'l' 'i' 'p' 's' 'e' 's'\n",
            " ' ' 'a' 'n' 'd' '\\n' 'p' 'r' 'e' 'd' 'o' 'm' 'i' 'n' 'a' 't' 'e' 's' ' '\n",
            " 't' 'h' 'e' ' ' 'w' 'h' 'o' 'l' 'e' ' ' 'o' 'f' ' ' 'h' 'e' 'r' ' ' 's'\n",
            " 'e' 'x' '.' ' ' 'I' 't' ' ' 'w' 'a' 's']\n"
          ],
          "name": "stdout"
        }
      ]
    },
    {
      "cell_type": "code",
      "metadata": {
        "id": "XTVoypSZ-mCh",
        "outputId": "5a158092-3483-4154-ecdc-3d7a6b92cc4a",
        "colab": {
          "base_uri": "https://localhost:8080/",
          "height": 439
        }
      },
      "source": [
        "zip_dataset = tf.data.Dataset.zip((seqX, seqY))  # Zip the datasets\n",
        "\n",
        "for input, output in zip_dataset.take(2):\n",
        "  print(numToChar[input.numpy()])\n",
        "  print(numToChar[output.numpy()])"
      ],
      "execution_count": 109,
      "outputs": [
        {
          "output_type": "stream",
          "text": [
            "['I' '.' ' ' 'A' ' ' 'S' 'C' 'A' 'N' 'D' 'A' 'L' ' ' 'I' 'N' ' ' 'B' 'O'\n",
            " 'H' 'E' 'M' 'I' 'A' '\\n' '\\n' '\\n' 'I' '.' '\\n' '\\n' 'T' 'o' ' ' 'S' 'h'\n",
            " 'e' 'r' 'l' 'o' 'c' 'k' ' ' 'H' 'o' 'l' 'm' 'e' 's' ' ' 's' 'h' 'e' ' '\n",
            " 'i' 's' ' ' 'a' 'l' 'w' 'a' 'y' 's' ' ' 't' 'h' 'e' ' ' 'w' 'o' 'm' 'a'\n",
            " 'n' '.' ' ' 'I' ' ' 'h' 'a' 'v' 'e' ' ' 's' 'e' 'l' 'd' 'o' 'm' ' ' 'h'\n",
            " 'e' 'a' 'r' 'd' ' ' 'h' 'i' 'm' '\\n' 'm' 'e']\n",
            "['.' ' ' 'A' ' ' 'S' 'C' 'A' 'N' 'D' 'A' 'L' ' ' 'I' 'N' ' ' 'B' 'O' 'H'\n",
            " 'E' 'M' 'I' 'A' '\\n' '\\n' '\\n' 'I' '.' '\\n' '\\n' 'T' 'o' ' ' 'S' 'h' 'e'\n",
            " 'r' 'l' 'o' 'c' 'k' ' ' 'H' 'o' 'l' 'm' 'e' 's' ' ' 's' 'h' 'e' ' ' 'i'\n",
            " 's' ' ' 'a' 'l' 'w' 'a' 'y' 's' ' ' 't' 'h' 'e' ' ' 'w' 'o' 'm' 'a' 'n'\n",
            " '.' ' ' 'I' ' ' 'h' 'a' 'v' 'e' ' ' 's' 'e' 'l' 'd' 'o' 'm' ' ' 'h' 'e'\n",
            " 'a' 'r' 'd' ' ' 'h' 'i' 'm' '\\n' 'm' 'e' 'n']\n",
            "['t' 'i' 'o' 'n' ' ' 'h' 'e' 'r' ' ' 'u' 'n' 'd' 'e' 'r' ' ' 'a' 'n' 'y'\n",
            " ' ' 'o' 't' 'h' 'e' 'r' ' ' 'n' 'a' 'm' 'e' '.' ' ' 'I' 'n' ' ' 'h' 'i'\n",
            " 's' ' ' 'e' 'y' 'e' 's' ' ' 's' 'h' 'e' ' ' 'e' 'c' 'l' 'i' 'p' 's' 'e'\n",
            " 's' ' ' 'a' 'n' 'd' '\\n' 'p' 'r' 'e' 'd' 'o' 'm' 'i' 'n' 'a' 't' 'e' 's'\n",
            " ' ' 't' 'h' 'e' ' ' 'w' 'h' 'o' 'l' 'e' ' ' 'o' 'f' ' ' 'h' 'e' 'r' ' '\n",
            " 's' 'e' 'x' '.' ' ' 'I' 't' ' ' 'w' 'a']\n",
            "['i' 'o' 'n' ' ' 'h' 'e' 'r' ' ' 'u' 'n' 'd' 'e' 'r' ' ' 'a' 'n' 'y' ' '\n",
            " 'o' 't' 'h' 'e' 'r' ' ' 'n' 'a' 'm' 'e' '.' ' ' 'I' 'n' ' ' 'h' 'i' 's'\n",
            " ' ' 'e' 'y' 'e' 's' ' ' 's' 'h' 'e' ' ' 'e' 'c' 'l' 'i' 'p' 's' 'e' 's'\n",
            " ' ' 'a' 'n' 'd' '\\n' 'p' 'r' 'e' 'd' 'o' 'm' 'i' 'n' 'a' 't' 'e' 's' ' '\n",
            " 't' 'h' 'e' ' ' 'w' 'h' 'o' 'l' 'e' ' ' 'o' 'f' ' ' 'h' 'e' 'r' ' ' 's'\n",
            " 'e' 'x' '.' ' ' 'I' 't' ' ' 'w' 'a' 's']\n"
          ],
          "name": "stdout"
        }
      ]
    },
    {
      "cell_type": "code",
      "metadata": {
        "id": "q4dXvfV0-mCj"
      },
      "source": [
        "BATCH_SIZE = 64\n",
        "BUFFER_SIZE = len(text_in_nums)\n",
        "\n",
        "dataset_shuffled = zip_dataset.shuffle(BUFFER_SIZE).batch(BATCH_SIZE, drop_remainder=True)  # Organize the dataset in batches"
      ],
      "execution_count": 110,
      "outputs": []
    },
    {
      "cell_type": "markdown",
      "metadata": {
        "id": "ljwXRc2v-mCl"
      },
      "source": [
        "## Define the Model"
      ]
    },
    {
      "cell_type": "code",
      "metadata": {
        "id": "U8oKRWM1-mCm"
      },
      "source": [
        "model = Sequential()\n",
        "\n",
        "model.add(Embedding(voc_size, 256, batch_input_shape=[BATCH_SIZE, None], input_length=100))\n",
        "model.add(LSTM(1024, return_sequences=True, stateful=True))\n",
        "model.add(Dropout(0.2))\n",
        "model.add(Dense(voc_size))"
      ],
      "execution_count": 111,
      "outputs": []
    },
    {
      "cell_type": "code",
      "metadata": {
        "id": "d2HU1bxb-mCo",
        "outputId": "66e42159-fac9-46ad-9277-258925d0d718",
        "colab": {
          "base_uri": "https://localhost:8080/",
          "height": 298
        }
      },
      "source": [
        "model.compile(loss=SparseCategoricalCrossentropy(from_logits=True), optimizer='adam', metrics=['accuracy'])\n",
        "model.summary()"
      ],
      "execution_count": 112,
      "outputs": [
        {
          "output_type": "stream",
          "text": [
            "Model: \"sequential_5\"\n",
            "_________________________________________________________________\n",
            "Layer (type)                 Output Shape              Param #   \n",
            "=================================================================\n",
            "embedding_5 (Embedding)      (64, None, 256)           21248     \n",
            "_________________________________________________________________\n",
            "lstm_5 (LSTM)                (64, None, 1024)          5246976   \n",
            "_________________________________________________________________\n",
            "dropout_3 (Dropout)          (64, None, 1024)          0         \n",
            "_________________________________________________________________\n",
            "dense_5 (Dense)              (64, None, 83)            85075     \n",
            "=================================================================\n",
            "Total params: 5,353,299\n",
            "Trainable params: 5,353,299\n",
            "Non-trainable params: 0\n",
            "_________________________________________________________________\n"
          ],
          "name": "stdout"
        }
      ]
    },
    {
      "cell_type": "code",
      "metadata": {
        "id": "2SiiCDI7-mCr"
      },
      "source": [
        "# Define a checkpoint callback:\n",
        "\n",
        "checkpoints_path = \"./checkpoints\"\n",
        "checkpoint = ModelCheckpoint(checkpoints_path, verbose=1, save_weights_only=True)"
      ],
      "execution_count": 113,
      "outputs": []
    },
    {
      "cell_type": "markdown",
      "metadata": {
        "id": "GTe-A_qK-mCt"
      },
      "source": [
        "## Train the Model"
      ]
    },
    {
      "cell_type": "code",
      "metadata": {
        "id": "WUv6IvHq-mCt",
        "outputId": "2f1c5f21-01f6-427f-d348-7bc4c84b9dac",
        "colab": {
          "base_uri": "https://localhost:8080/",
          "height": 1000
        }
      },
      "source": [
        "EPOCHS = 100\n",
        "history = model.fit(dataset_shuffled, epochs=EPOCHS, callbacks=[checkpoint])\n",
        "\n",
        "model.save_weights('./training-{}epochs'.format(EPOCHS))"
      ],
      "execution_count": 114,
      "outputs": [
        {
          "output_type": "stream",
          "text": [
            "Epoch 1/100\n",
            "393/393 [==============================] - ETA: 0s - loss: 2.4293 - accuracy: 0.3235\n",
            "Epoch 00001: saving model to ./checkpoints\n",
            "393/393 [==============================] - 35s 90ms/step - loss: 2.4293 - accuracy: 0.3235\n",
            "Epoch 2/100\n",
            "393/393 [==============================] - ETA: 0s - loss: 1.8159 - accuracy: 0.4672\n",
            "Epoch 00002: saving model to ./checkpoints\n",
            "393/393 [==============================] - 35s 90ms/step - loss: 1.8159 - accuracy: 0.4672\n",
            "Epoch 3/100\n",
            "393/393 [==============================] - ETA: 0s - loss: 1.6031 - accuracy: 0.5240\n",
            "Epoch 00003: saving model to ./checkpoints\n",
            "393/393 [==============================] - 36s 91ms/step - loss: 1.6031 - accuracy: 0.5240\n",
            "Epoch 4/100\n",
            "393/393 [==============================] - ETA: 0s - loss: 1.4951 - accuracy: 0.5527\n",
            "Epoch 00004: saving model to ./checkpoints\n",
            "393/393 [==============================] - 36s 92ms/step - loss: 1.4951 - accuracy: 0.5527\n",
            "Epoch 5/100\n",
            "393/393 [==============================] - ETA: 0s - loss: 1.4287 - accuracy: 0.5702\n",
            "Epoch 00005: saving model to ./checkpoints\n",
            "393/393 [==============================] - 36s 92ms/step - loss: 1.4287 - accuracy: 0.5702\n",
            "Epoch 6/100\n",
            "393/393 [==============================] - ETA: 0s - loss: 1.3822 - accuracy: 0.5824\n",
            "Epoch 00006: saving model to ./checkpoints\n",
            "393/393 [==============================] - 36s 92ms/step - loss: 1.3822 - accuracy: 0.5824\n",
            "Epoch 7/100\n",
            "393/393 [==============================] - ETA: 0s - loss: 1.3454 - accuracy: 0.5921\n",
            "Epoch 00007: saving model to ./checkpoints\n",
            "393/393 [==============================] - 36s 91ms/step - loss: 1.3454 - accuracy: 0.5921\n",
            "Epoch 8/100\n",
            "393/393 [==============================] - ETA: 0s - loss: 1.3171 - accuracy: 0.5994\n",
            "Epoch 00008: saving model to ./checkpoints\n",
            "393/393 [==============================] - 36s 92ms/step - loss: 1.3171 - accuracy: 0.5994\n",
            "Epoch 9/100\n",
            "393/393 [==============================] - ETA: 0s - loss: 1.2915 - accuracy: 0.6060\n",
            "Epoch 00009: saving model to ./checkpoints\n",
            "393/393 [==============================] - 36s 91ms/step - loss: 1.2915 - accuracy: 0.6060\n",
            "Epoch 10/100\n",
            "393/393 [==============================] - ETA: 0s - loss: 1.2685 - accuracy: 0.6124\n",
            "Epoch 00010: saving model to ./checkpoints\n",
            "393/393 [==============================] - 36s 92ms/step - loss: 1.2685 - accuracy: 0.6124\n",
            "Epoch 11/100\n",
            "393/393 [==============================] - ETA: 0s - loss: 1.2480 - accuracy: 0.6181\n",
            "Epoch 00011: saving model to ./checkpoints\n",
            "393/393 [==============================] - 36s 92ms/step - loss: 1.2480 - accuracy: 0.6181\n",
            "Epoch 12/100\n",
            "393/393 [==============================] - ETA: 0s - loss: 1.2278 - accuracy: 0.6234\n",
            "Epoch 00012: saving model to ./checkpoints\n",
            "393/393 [==============================] - 36s 92ms/step - loss: 1.2278 - accuracy: 0.6234\n",
            "Epoch 13/100\n",
            "393/393 [==============================] - ETA: 0s - loss: 1.2105 - accuracy: 0.6282\n",
            "Epoch 00013: saving model to ./checkpoints\n",
            "393/393 [==============================] - 36s 92ms/step - loss: 1.2105 - accuracy: 0.6282\n",
            "Epoch 14/100\n",
            "393/393 [==============================] - ETA: 0s - loss: 1.1922 - accuracy: 0.6334\n",
            "Epoch 00014: saving model to ./checkpoints\n",
            "393/393 [==============================] - 36s 92ms/step - loss: 1.1922 - accuracy: 0.6334\n",
            "Epoch 15/100\n",
            "393/393 [==============================] - ETA: 0s - loss: 1.1751 - accuracy: 0.6382\n",
            "Epoch 00015: saving model to ./checkpoints\n",
            "393/393 [==============================] - 36s 92ms/step - loss: 1.1751 - accuracy: 0.6382\n",
            "Epoch 16/100\n",
            "393/393 [==============================] - ETA: 0s - loss: 1.1585 - accuracy: 0.6432\n",
            "Epoch 00016: saving model to ./checkpoints\n",
            "393/393 [==============================] - 36s 92ms/step - loss: 1.1585 - accuracy: 0.6432\n",
            "Epoch 17/100\n",
            "393/393 [==============================] - ETA: 0s - loss: 1.1427 - accuracy: 0.6476\n",
            "Epoch 00017: saving model to ./checkpoints\n",
            "393/393 [==============================] - 36s 91ms/step - loss: 1.1427 - accuracy: 0.6476\n",
            "Epoch 18/100\n",
            "393/393 [==============================] - ETA: 0s - loss: 1.1265 - accuracy: 0.6528\n",
            "Epoch 00018: saving model to ./checkpoints\n",
            "393/393 [==============================] - 36s 91ms/step - loss: 1.1265 - accuracy: 0.6528\n",
            "Epoch 19/100\n",
            "393/393 [==============================] - ETA: 0s - loss: 1.1112 - accuracy: 0.6569\n",
            "Epoch 00019: saving model to ./checkpoints\n",
            "393/393 [==============================] - 36s 91ms/step - loss: 1.1112 - accuracy: 0.6569\n",
            "Epoch 20/100\n",
            "393/393 [==============================] - ETA: 0s - loss: 1.0967 - accuracy: 0.6618\n",
            "Epoch 00020: saving model to ./checkpoints\n",
            "393/393 [==============================] - 36s 92ms/step - loss: 1.0967 - accuracy: 0.6618\n",
            "Epoch 21/100\n",
            "393/393 [==============================] - ETA: 0s - loss: 1.0823 - accuracy: 0.6659\n",
            "Epoch 00021: saving model to ./checkpoints\n",
            "393/393 [==============================] - 36s 91ms/step - loss: 1.0823 - accuracy: 0.6659\n",
            "Epoch 22/100\n",
            "393/393 [==============================] - ETA: 0s - loss: 1.0691 - accuracy: 0.6700\n",
            "Epoch 00022: saving model to ./checkpoints\n",
            "393/393 [==============================] - 36s 91ms/step - loss: 1.0691 - accuracy: 0.6700\n",
            "Epoch 23/100\n",
            "393/393 [==============================] - ETA: 0s - loss: 1.0558 - accuracy: 0.6740\n",
            "Epoch 00023: saving model to ./checkpoints\n",
            "393/393 [==============================] - 36s 91ms/step - loss: 1.0558 - accuracy: 0.6740\n",
            "Epoch 24/100\n",
            "393/393 [==============================] - ETA: 0s - loss: 1.0443 - accuracy: 0.6777\n",
            "Epoch 00024: saving model to ./checkpoints\n",
            "393/393 [==============================] - 36s 92ms/step - loss: 1.0443 - accuracy: 0.6777\n",
            "Epoch 25/100\n",
            "393/393 [==============================] - ETA: 0s - loss: 1.0328 - accuracy: 0.6812\n",
            "Epoch 00025: saving model to ./checkpoints\n",
            "393/393 [==============================] - 36s 91ms/step - loss: 1.0328 - accuracy: 0.6812\n",
            "Epoch 26/100\n",
            "393/393 [==============================] - ETA: 0s - loss: 1.0230 - accuracy: 0.6846\n",
            "Epoch 00026: saving model to ./checkpoints\n",
            "393/393 [==============================] - 36s 91ms/step - loss: 1.0230 - accuracy: 0.6846\n",
            "Epoch 27/100\n",
            "393/393 [==============================] - ETA: 0s - loss: 1.0123 - accuracy: 0.6877\n",
            "Epoch 00027: saving model to ./checkpoints\n",
            "393/393 [==============================] - 36s 91ms/step - loss: 1.0123 - accuracy: 0.6877\n",
            "Epoch 28/100\n",
            "393/393 [==============================] - ETA: 0s - loss: 1.0037 - accuracy: 0.6908\n",
            "Epoch 00028: saving model to ./checkpoints\n",
            "393/393 [==============================] - 36s 91ms/step - loss: 1.0037 - accuracy: 0.6908\n",
            "Epoch 29/100\n",
            "393/393 [==============================] - ETA: 0s - loss: 0.9954 - accuracy: 0.6932\n",
            "Epoch 00029: saving model to ./checkpoints\n",
            "393/393 [==============================] - 36s 91ms/step - loss: 0.9954 - accuracy: 0.6932\n",
            "Epoch 30/100\n",
            "393/393 [==============================] - ETA: 0s - loss: 0.9881 - accuracy: 0.6956\n",
            "Epoch 00030: saving model to ./checkpoints\n",
            "393/393 [==============================] - 36s 91ms/step - loss: 0.9881 - accuracy: 0.6956\n",
            "Epoch 31/100\n",
            "393/393 [==============================] - ETA: 0s - loss: 0.9800 - accuracy: 0.6981\n",
            "Epoch 00031: saving model to ./checkpoints\n",
            "393/393 [==============================] - 36s 91ms/step - loss: 0.9800 - accuracy: 0.6981\n",
            "Epoch 32/100\n",
            "393/393 [==============================] - ETA: 0s - loss: 0.9737 - accuracy: 0.7002\n",
            "Epoch 00032: saving model to ./checkpoints\n",
            "393/393 [==============================] - 36s 91ms/step - loss: 0.9737 - accuracy: 0.7002\n",
            "Epoch 33/100\n",
            "393/393 [==============================] - ETA: 0s - loss: 0.9675 - accuracy: 0.7020\n",
            "Epoch 00033: saving model to ./checkpoints\n",
            "393/393 [==============================] - 36s 91ms/step - loss: 0.9675 - accuracy: 0.7020\n",
            "Epoch 34/100\n",
            "393/393 [==============================] - ETA: 0s - loss: 0.9624 - accuracy: 0.7036\n",
            "Epoch 00034: saving model to ./checkpoints\n",
            "393/393 [==============================] - 36s 92ms/step - loss: 0.9624 - accuracy: 0.7036\n",
            "Epoch 35/100\n",
            "393/393 [==============================] - ETA: 0s - loss: 0.9572 - accuracy: 0.7052\n",
            "Epoch 00035: saving model to ./checkpoints\n",
            "393/393 [==============================] - 36s 91ms/step - loss: 0.9572 - accuracy: 0.7052\n",
            "Epoch 36/100\n",
            "393/393 [==============================] - ETA: 0s - loss: 0.9522 - accuracy: 0.7070\n",
            "Epoch 00036: saving model to ./checkpoints\n",
            "393/393 [==============================] - 36s 92ms/step - loss: 0.9522 - accuracy: 0.7070\n",
            "Epoch 37/100\n",
            "393/393 [==============================] - ETA: 0s - loss: 0.9481 - accuracy: 0.7081\n",
            "Epoch 00037: saving model to ./checkpoints\n",
            "393/393 [==============================] - 36s 91ms/step - loss: 0.9481 - accuracy: 0.7081\n",
            "Epoch 38/100\n",
            "393/393 [==============================] - ETA: 0s - loss: 0.9437 - accuracy: 0.7098\n",
            "Epoch 00038: saving model to ./checkpoints\n",
            "393/393 [==============================] - 36s 92ms/step - loss: 0.9437 - accuracy: 0.7098\n",
            "Epoch 39/100\n",
            "393/393 [==============================] - ETA: 0s - loss: 0.9406 - accuracy: 0.7107\n",
            "Epoch 00039: saving model to ./checkpoints\n",
            "393/393 [==============================] - 36s 92ms/step - loss: 0.9406 - accuracy: 0.7107\n",
            "Epoch 40/100\n",
            "393/393 [==============================] - ETA: 0s - loss: 0.9376 - accuracy: 0.7116\n",
            "Epoch 00040: saving model to ./checkpoints\n",
            "393/393 [==============================] - 36s 92ms/step - loss: 0.9376 - accuracy: 0.7116\n",
            "Epoch 41/100\n",
            "393/393 [==============================] - ETA: 0s - loss: 0.9337 - accuracy: 0.7127\n",
            "Epoch 00041: saving model to ./checkpoints\n",
            "393/393 [==============================] - 36s 91ms/step - loss: 0.9337 - accuracy: 0.7127\n",
            "Epoch 42/100\n",
            "393/393 [==============================] - ETA: 0s - loss: 0.9311 - accuracy: 0.7136\n",
            "Epoch 00042: saving model to ./checkpoints\n",
            "393/393 [==============================] - 36s 92ms/step - loss: 0.9311 - accuracy: 0.7136\n",
            "Epoch 43/100\n",
            "393/393 [==============================] - ETA: 0s - loss: 0.9287 - accuracy: 0.7144\n",
            "Epoch 00043: saving model to ./checkpoints\n",
            "393/393 [==============================] - 36s 91ms/step - loss: 0.9287 - accuracy: 0.7144\n",
            "Epoch 44/100\n",
            "393/393 [==============================] - ETA: 0s - loss: 0.9265 - accuracy: 0.7147\n",
            "Epoch 00044: saving model to ./checkpoints\n",
            "393/393 [==============================] - 36s 91ms/step - loss: 0.9265 - accuracy: 0.7147\n",
            "Epoch 45/100\n",
            "393/393 [==============================] - ETA: 0s - loss: 0.9244 - accuracy: 0.7156\n",
            "Epoch 00045: saving model to ./checkpoints\n",
            "393/393 [==============================] - 36s 91ms/step - loss: 0.9244 - accuracy: 0.7156\n",
            "Epoch 46/100\n",
            "393/393 [==============================] - ETA: 0s - loss: 0.9213 - accuracy: 0.7166\n",
            "Epoch 00046: saving model to ./checkpoints\n",
            "393/393 [==============================] - 36s 91ms/step - loss: 0.9213 - accuracy: 0.7166\n",
            "Epoch 47/100\n",
            "393/393 [==============================] - ETA: 0s - loss: 0.9210 - accuracy: 0.7165\n",
            "Epoch 00047: saving model to ./checkpoints\n",
            "393/393 [==============================] - 36s 92ms/step - loss: 0.9210 - accuracy: 0.7165\n",
            "Epoch 48/100\n",
            "393/393 [==============================] - ETA: 0s - loss: 0.9183 - accuracy: 0.7171\n",
            "Epoch 00048: saving model to ./checkpoints\n",
            "393/393 [==============================] - 36s 91ms/step - loss: 0.9183 - accuracy: 0.7171\n",
            "Epoch 49/100\n",
            "393/393 [==============================] - ETA: 0s - loss: 0.9177 - accuracy: 0.7176\n",
            "Epoch 00049: saving model to ./checkpoints\n",
            "393/393 [==============================] - 36s 91ms/step - loss: 0.9177 - accuracy: 0.7176\n",
            "Epoch 50/100\n",
            "393/393 [==============================] - ETA: 0s - loss: 0.9165 - accuracy: 0.7178\n",
            "Epoch 00050: saving model to ./checkpoints\n",
            "393/393 [==============================] - 36s 91ms/step - loss: 0.9165 - accuracy: 0.7178\n",
            "Epoch 51/100\n",
            "393/393 [==============================] - ETA: 0s - loss: 0.9155 - accuracy: 0.7178\n",
            "Epoch 00051: saving model to ./checkpoints\n",
            "393/393 [==============================] - 36s 91ms/step - loss: 0.9155 - accuracy: 0.7178\n",
            "Epoch 52/100\n",
            "393/393 [==============================] - ETA: 0s - loss: 0.9141 - accuracy: 0.7187\n",
            "Epoch 00052: saving model to ./checkpoints\n",
            "393/393 [==============================] - 36s 91ms/step - loss: 0.9141 - accuracy: 0.7187\n",
            "Epoch 53/100\n",
            "393/393 [==============================] - ETA: 0s - loss: 0.9131 - accuracy: 0.7191\n",
            "Epoch 00053: saving model to ./checkpoints\n",
            "393/393 [==============================] - 36s 91ms/step - loss: 0.9131 - accuracy: 0.7191\n",
            "Epoch 54/100\n",
            "393/393 [==============================] - ETA: 0s - loss: 0.9126 - accuracy: 0.7189\n",
            "Epoch 00054: saving model to ./checkpoints\n",
            "393/393 [==============================] - 36s 92ms/step - loss: 0.9126 - accuracy: 0.7189\n",
            "Epoch 55/100\n",
            "393/393 [==============================] - ETA: 0s - loss: 0.9115 - accuracy: 0.7193\n",
            "Epoch 00055: saving model to ./checkpoints\n",
            "393/393 [==============================] - 36s 91ms/step - loss: 0.9115 - accuracy: 0.7193\n",
            "Epoch 56/100\n",
            "393/393 [==============================] - ETA: 0s - loss: 0.9107 - accuracy: 0.7196\n",
            "Epoch 00056: saving model to ./checkpoints\n",
            "393/393 [==============================] - 36s 91ms/step - loss: 0.9107 - accuracy: 0.7196\n",
            "Epoch 57/100\n",
            "393/393 [==============================] - ETA: 0s - loss: 0.9097 - accuracy: 0.7194\n",
            "Epoch 00057: saving model to ./checkpoints\n",
            "393/393 [==============================] - 36s 92ms/step - loss: 0.9097 - accuracy: 0.7194\n",
            "Epoch 58/100\n",
            "393/393 [==============================] - ETA: 0s - loss: 0.9104 - accuracy: 0.7194\n",
            "Epoch 00058: saving model to ./checkpoints\n",
            "393/393 [==============================] - 36s 91ms/step - loss: 0.9104 - accuracy: 0.7194\n",
            "Epoch 59/100\n",
            "393/393 [==============================] - ETA: 0s - loss: 0.9092 - accuracy: 0.7197\n",
            "Epoch 00059: saving model to ./checkpoints\n",
            "393/393 [==============================] - 36s 91ms/step - loss: 0.9092 - accuracy: 0.7197\n",
            "Epoch 60/100\n",
            "393/393 [==============================] - ETA: 0s - loss: 0.9092 - accuracy: 0.7198\n",
            "Epoch 00060: saving model to ./checkpoints\n",
            "393/393 [==============================] - 36s 91ms/step - loss: 0.9092 - accuracy: 0.7198\n",
            "Epoch 61/100\n",
            "393/393 [==============================] - ETA: 0s - loss: 0.9100 - accuracy: 0.7196\n",
            "Epoch 00061: saving model to ./checkpoints\n",
            "393/393 [==============================] - 36s 92ms/step - loss: 0.9100 - accuracy: 0.7196\n",
            "Epoch 62/100\n",
            "393/393 [==============================] - ETA: 0s - loss: 0.9084 - accuracy: 0.7200\n",
            "Epoch 00062: saving model to ./checkpoints\n",
            "393/393 [==============================] - 36s 91ms/step - loss: 0.9084 - accuracy: 0.7200\n",
            "Epoch 63/100\n",
            "393/393 [==============================] - ETA: 0s - loss: 0.9091 - accuracy: 0.7192\n",
            "Epoch 00063: saving model to ./checkpoints\n",
            "393/393 [==============================] - 36s 92ms/step - loss: 0.9091 - accuracy: 0.7192\n",
            "Epoch 64/100\n",
            "393/393 [==============================] - ETA: 0s - loss: 0.9093 - accuracy: 0.7197\n",
            "Epoch 00064: saving model to ./checkpoints\n",
            "393/393 [==============================] - 36s 91ms/step - loss: 0.9093 - accuracy: 0.7197\n",
            "Epoch 65/100\n",
            "393/393 [==============================] - ETA: 0s - loss: 0.9081 - accuracy: 0.7200\n",
            "Epoch 00065: saving model to ./checkpoints\n",
            "393/393 [==============================] - 36s 91ms/step - loss: 0.9081 - accuracy: 0.7200\n",
            "Epoch 66/100\n",
            "393/393 [==============================] - ETA: 0s - loss: 0.9077 - accuracy: 0.7200\n",
            "Epoch 00066: saving model to ./checkpoints\n",
            "393/393 [==============================] - 36s 91ms/step - loss: 0.9077 - accuracy: 0.7200\n",
            "Epoch 67/100\n",
            "393/393 [==============================] - ETA: 0s - loss: 0.9091 - accuracy: 0.7195\n",
            "Epoch 00067: saving model to ./checkpoints\n",
            "393/393 [==============================] - 36s 91ms/step - loss: 0.9091 - accuracy: 0.7195\n",
            "Epoch 68/100\n",
            "393/393 [==============================] - ETA: 0s - loss: 0.9085 - accuracy: 0.7196\n",
            "Epoch 00068: saving model to ./checkpoints\n",
            "393/393 [==============================] - 36s 91ms/step - loss: 0.9085 - accuracy: 0.7196\n",
            "Epoch 69/100\n",
            "393/393 [==============================] - ETA: 0s - loss: 0.9101 - accuracy: 0.7192\n",
            "Epoch 00069: saving model to ./checkpoints\n",
            "393/393 [==============================] - 36s 92ms/step - loss: 0.9101 - accuracy: 0.7192\n",
            "Epoch 70/100\n",
            "393/393 [==============================] - ETA: 0s - loss: 0.9084 - accuracy: 0.7193\n",
            "Epoch 00070: saving model to ./checkpoints\n",
            "393/393 [==============================] - 36s 91ms/step - loss: 0.9084 - accuracy: 0.7193\n",
            "Epoch 71/100\n",
            "393/393 [==============================] - ETA: 0s - loss: 0.9094 - accuracy: 0.7191\n",
            "Epoch 00071: saving model to ./checkpoints\n",
            "393/393 [==============================] - 36s 91ms/step - loss: 0.9094 - accuracy: 0.7191\n",
            "Epoch 72/100\n",
            "393/393 [==============================] - ETA: 0s - loss: 0.9083 - accuracy: 0.7194\n",
            "Epoch 00072: saving model to ./checkpoints\n",
            "393/393 [==============================] - 36s 91ms/step - loss: 0.9083 - accuracy: 0.7194\n",
            "Epoch 73/100\n",
            "393/393 [==============================] - ETA: 0s - loss: 0.9100 - accuracy: 0.7188\n",
            "Epoch 00073: saving model to ./checkpoints\n",
            "393/393 [==============================] - 36s 91ms/step - loss: 0.9100 - accuracy: 0.7188\n",
            "Epoch 74/100\n",
            "393/393 [==============================] - ETA: 0s - loss: 0.9101 - accuracy: 0.7189\n",
            "Epoch 00074: saving model to ./checkpoints\n",
            "393/393 [==============================] - 36s 91ms/step - loss: 0.9101 - accuracy: 0.7189\n",
            "Epoch 75/100\n",
            "393/393 [==============================] - ETA: 0s - loss: 0.9118 - accuracy: 0.7183\n",
            "Epoch 00075: saving model to ./checkpoints\n",
            "393/393 [==============================] - 36s 91ms/step - loss: 0.9118 - accuracy: 0.7183\n",
            "Epoch 76/100\n",
            "393/393 [==============================] - ETA: 0s - loss: 0.9112 - accuracy: 0.7185\n",
            "Epoch 00076: saving model to ./checkpoints\n",
            "393/393 [==============================] - 36s 91ms/step - loss: 0.9112 - accuracy: 0.7185\n",
            "Epoch 77/100\n",
            "393/393 [==============================] - ETA: 0s - loss: 0.9120 - accuracy: 0.7181\n",
            "Epoch 00077: saving model to ./checkpoints\n",
            "393/393 [==============================] - 36s 91ms/step - loss: 0.9120 - accuracy: 0.7181\n",
            "Epoch 78/100\n",
            "393/393 [==============================] - ETA: 0s - loss: 0.9119 - accuracy: 0.7178\n",
            "Epoch 00078: saving model to ./checkpoints\n",
            "393/393 [==============================] - 36s 92ms/step - loss: 0.9119 - accuracy: 0.7178\n",
            "Epoch 79/100\n",
            "393/393 [==============================] - ETA: 0s - loss: 0.9142 - accuracy: 0.7173\n",
            "Epoch 00079: saving model to ./checkpoints\n",
            "393/393 [==============================] - 36s 91ms/step - loss: 0.9142 - accuracy: 0.7173\n",
            "Epoch 80/100\n",
            "393/393 [==============================] - ETA: 0s - loss: 0.9140 - accuracy: 0.7174\n",
            "Epoch 00080: saving model to ./checkpoints\n",
            "393/393 [==============================] - 36s 92ms/step - loss: 0.9140 - accuracy: 0.7174\n",
            "Epoch 81/100\n",
            "393/393 [==============================] - ETA: 0s - loss: 0.9146 - accuracy: 0.7169\n",
            "Epoch 00081: saving model to ./checkpoints\n",
            "393/393 [==============================] - 36s 92ms/step - loss: 0.9146 - accuracy: 0.7169\n",
            "Epoch 82/100\n",
            "393/393 [==============================] - ETA: 0s - loss: 0.9155 - accuracy: 0.7169\n",
            "Epoch 00082: saving model to ./checkpoints\n",
            "393/393 [==============================] - 36s 91ms/step - loss: 0.9155 - accuracy: 0.7169\n",
            "Epoch 83/100\n",
            "393/393 [==============================] - ETA: 0s - loss: 0.9177 - accuracy: 0.7158\n",
            "Epoch 00083: saving model to ./checkpoints\n",
            "393/393 [==============================] - 36s 91ms/step - loss: 0.9177 - accuracy: 0.7158\n",
            "Epoch 84/100\n",
            "393/393 [==============================] - ETA: 0s - loss: 0.9173 - accuracy: 0.7160\n",
            "Epoch 00084: saving model to ./checkpoints\n",
            "393/393 [==============================] - 36s 91ms/step - loss: 0.9173 - accuracy: 0.7160\n",
            "Epoch 85/100\n",
            "393/393 [==============================] - ETA: 0s - loss: 0.9200 - accuracy: 0.7150\n",
            "Epoch 00085: saving model to ./checkpoints\n",
            "393/393 [==============================] - 36s 91ms/step - loss: 0.9200 - accuracy: 0.7150\n",
            "Epoch 86/100\n",
            "393/393 [==============================] - ETA: 0s - loss: 0.9169 - accuracy: 0.7161\n",
            "Epoch 00086: saving model to ./checkpoints\n",
            "393/393 [==============================] - 36s 91ms/step - loss: 0.9169 - accuracy: 0.7161\n",
            "Epoch 87/100\n",
            "393/393 [==============================] - ETA: 0s - loss: 0.9183 - accuracy: 0.7156\n",
            "Epoch 00087: saving model to ./checkpoints\n",
            "393/393 [==============================] - 36s 91ms/step - loss: 0.9183 - accuracy: 0.7156\n",
            "Epoch 88/100\n",
            "393/393 [==============================] - ETA: 0s - loss: 0.9195 - accuracy: 0.7154\n",
            "Epoch 00088: saving model to ./checkpoints\n",
            "393/393 [==============================] - 36s 91ms/step - loss: 0.9195 - accuracy: 0.7154\n",
            "Epoch 89/100\n",
            "393/393 [==============================] - ETA: 0s - loss: 0.9207 - accuracy: 0.7149\n",
            "Epoch 00089: saving model to ./checkpoints\n",
            "393/393 [==============================] - 36s 91ms/step - loss: 0.9207 - accuracy: 0.7149\n",
            "Epoch 90/100\n",
            "393/393 [==============================] - ETA: 0s - loss: 0.9211 - accuracy: 0.7147\n",
            "Epoch 00090: saving model to ./checkpoints\n",
            "393/393 [==============================] - 36s 91ms/step - loss: 0.9211 - accuracy: 0.7147\n",
            "Epoch 91/100\n",
            "393/393 [==============================] - ETA: 0s - loss: 0.9220 - accuracy: 0.7143\n",
            "Epoch 00091: saving model to ./checkpoints\n",
            "393/393 [==============================] - 36s 91ms/step - loss: 0.9220 - accuracy: 0.7143\n",
            "Epoch 92/100\n",
            "393/393 [==============================] - ETA: 0s - loss: 0.9236 - accuracy: 0.7137\n",
            "Epoch 00092: saving model to ./checkpoints\n",
            "393/393 [==============================] - 36s 91ms/step - loss: 0.9236 - accuracy: 0.7137\n",
            "Epoch 93/100\n",
            "393/393 [==============================] - ETA: 0s - loss: 0.9243 - accuracy: 0.7131\n",
            "Epoch 00093: saving model to ./checkpoints\n",
            "393/393 [==============================] - 36s 91ms/step - loss: 0.9243 - accuracy: 0.7131\n",
            "Epoch 94/100\n",
            "393/393 [==============================] - ETA: 0s - loss: 0.9263 - accuracy: 0.7129\n",
            "Epoch 00094: saving model to ./checkpoints\n",
            "393/393 [==============================] - 36s 92ms/step - loss: 0.9263 - accuracy: 0.7129\n",
            "Epoch 95/100\n",
            "393/393 [==============================] - ETA: 0s - loss: 0.9277 - accuracy: 0.7124\n",
            "Epoch 00095: saving model to ./checkpoints\n",
            "393/393 [==============================] - 36s 91ms/step - loss: 0.9277 - accuracy: 0.7124\n",
            "Epoch 96/100\n",
            "393/393 [==============================] - ETA: 0s - loss: 0.9280 - accuracy: 0.7120\n",
            "Epoch 00096: saving model to ./checkpoints\n",
            "393/393 [==============================] - 36s 91ms/step - loss: 0.9280 - accuracy: 0.7120\n",
            "Epoch 97/100\n",
            "393/393 [==============================] - ETA: 0s - loss: 0.9306 - accuracy: 0.7114\n",
            "Epoch 00097: saving model to ./checkpoints\n",
            "393/393 [==============================] - 36s 91ms/step - loss: 0.9306 - accuracy: 0.7114\n",
            "Epoch 98/100\n",
            "393/393 [==============================] - ETA: 0s - loss: 0.9328 - accuracy: 0.7105\n",
            "Epoch 00098: saving model to ./checkpoints\n",
            "393/393 [==============================] - 36s 91ms/step - loss: 0.9328 - accuracy: 0.7105\n",
            "Epoch 99/100\n",
            "393/393 [==============================] - ETA: 0s - loss: 0.9340 - accuracy: 0.7098\n",
            "Epoch 00099: saving model to ./checkpoints\n",
            "393/393 [==============================] - 36s 91ms/step - loss: 0.9340 - accuracy: 0.7098\n",
            "Epoch 100/100\n",
            "393/393 [==============================] - ETA: 0s - loss: 0.9357 - accuracy: 0.7094\n",
            "Epoch 00100: saving model to ./checkpoints\n",
            "393/393 [==============================] - 36s 91ms/step - loss: 0.9357 - accuracy: 0.7094\n"
          ],
          "name": "stdout"
        }
      ]
    },
    {
      "cell_type": "code",
      "metadata": {
        "id": "eSOx29lOFtFQ",
        "outputId": "13112a2b-e97e-4d7d-89ed-368aa200e89d",
        "colab": {
          "base_uri": "https://localhost:8080/",
          "height": 105
        }
      },
      "source": [
        "!ls"
      ],
      "execution_count": 67,
      "outputs": [
        {
          "output_type": "stream",
          "text": [
            "checkpoint\t\t\t\ttraining-100epochs.index\n",
            "checkpoints.data-00000-of-00001\t\ttraining-150epochs.data-00000-of-00001\n",
            "checkpoints.index\t\t\ttraining-150epochs.index\n",
            "sample_data\t\t\t\ttraining-200epochs.data-00000-of-00001\n",
            "training-100epochs.data-00000-of-00001\ttraining-200epochs.index\n"
          ],
          "name": "stdout"
        }
      ]
    },
    {
      "cell_type": "markdown",
      "metadata": {
        "id": "c1pVZi543mTE"
      },
      "source": [
        "\n",
        "## Predictions\n",
        "Now we will load the trained model to a new model with a batch size of 1. We will use this new model to make predictions."
      ]
    },
    {
      "cell_type": "code",
      "metadata": {
        "id": "oFg6155t4DA8",
        "outputId": "cfdc378a-af61-4dd4-cd5a-913f7116ade6",
        "colab": {
          "base_uri": "https://localhost:8080/",
          "height": 389
        }
      },
      "source": [
        "predictor = Sequential()\n",
        "\n",
        "predictor.add(Embedding(voc_size, 256, batch_input_shape=[1, None], input_length=100))\n",
        "predictor.add(LSTM(1024, return_sequences=True, stateful=True))\n",
        "predictor.add(Dense(voc_size))\n",
        "\n",
        "predictor.compile(loss=SparseCategoricalCrossentropy(from_logits=True), optimizer='adam', metrics=['accuracy'])\n",
        "predictor.summary()\n",
        "\n",
        "\n",
        "predictor.load_weights('./training-{}epochs'.format(EPOCHS))\n",
        "\n",
        "predictor.build(input_shape=([1,None]))"
      ],
      "execution_count": 125,
      "outputs": [
        {
          "output_type": "stream",
          "text": [
            "WARNING:tensorflow:Unresolved object in checkpoint: (root).optimizer.iter\n",
            "WARNING:tensorflow:Unresolved object in checkpoint: (root).optimizer.beta_1\n",
            "WARNING:tensorflow:Unresolved object in checkpoint: (root).optimizer.beta_2\n",
            "WARNING:tensorflow:Unresolved object in checkpoint: (root).optimizer.decay\n",
            "WARNING:tensorflow:Unresolved object in checkpoint: (root).optimizer.learning_rate\n",
            "WARNING:tensorflow:A checkpoint was restored (e.g. tf.train.Checkpoint.restore or tf.keras.Model.load_weights) but not all checkpointed values were used. See above for specific issues. Use expect_partial() on the load status object, e.g. tf.train.Checkpoint.restore(...).expect_partial(), to silence these warnings, or use assert_consumed() to make the check explicit. See https://www.tensorflow.org/guide/checkpoint#loading_mechanics for details.\n",
            "Model: \"sequential_7\"\n",
            "_________________________________________________________________\n",
            "Layer (type)                 Output Shape              Param #   \n",
            "=================================================================\n",
            "embedding_7 (Embedding)      (1, None, 256)            21248     \n",
            "_________________________________________________________________\n",
            "lstm_7 (LSTM)                (1, None, 1024)           5246976   \n",
            "_________________________________________________________________\n",
            "dense_7 (Dense)              (1, None, 83)             85075     \n",
            "=================================================================\n",
            "Total params: 5,353,299\n",
            "Trainable params: 5,353,299\n",
            "Non-trainable params: 0\n",
            "_________________________________________________________________\n"
          ],
          "name": "stdout"
        }
      ]
    },
    {
      "cell_type": "markdown",
      "metadata": {
        "id": "UBnTZPKC4Ya_"
      },
      "source": [
        "A function to generate predictions with this new model."
      ]
    },
    {
      "cell_type": "code",
      "metadata": {
        "id": "hQncuM2Q4q-4"
      },
      "source": [
        "def generate_text(predictor, seed, temperature = 0.50):\n",
        "  input_nums = [charToNum[s] for s in seed]\n",
        "  input_nums = tf.expand_dims(input_nums, 0)\n",
        "  predictor.reset_states()\n",
        "  \n",
        "\n",
        "  result = []\n",
        "  for i in range(500):\n",
        "    prediction = predictor(input_nums)\n",
        "    prediction = tf.squeeze(prediction, 0)\n",
        "\n",
        "    prediction = prediction / temperature\n",
        "\n",
        "    pred_num = tf.random.categorical(prediction, num_samples=1)[-1, 0].numpy()\n",
        "\n",
        "    input_nums = tf.expand_dims([pred_num], 0)\n",
        "\n",
        "    result.append(numToChar[pred_num])\n",
        "\n",
        "  return seed + ''.join(result)"
      ],
      "execution_count": 51,
      "outputs": []
    },
    {
      "cell_type": "markdown",
      "metadata": {
        "id": "HEYw8EhB8SCd"
      },
      "source": [
        "## Tests"
      ]
    },
    {
      "cell_type": "code",
      "metadata": {
        "id": "hdn31hTm6gCc",
        "outputId": "87c3debe-9bf1-45c1-cf1a-0d1d38adbb59",
        "colab": {
          "base_uri": "https://localhost:8080/",
          "height": 140
        }
      },
      "source": [
        "test1 = generate_text(predictor, \"For what is worth, \")\n",
        "print(test1)"
      ],
      "execution_count": 117,
      "outputs": [
        {
          "output_type": "stream",
          "text": [
            "For what is worth, and one of the grounds of life and\n",
            "milders and marble leg. And then, and for thirty years in the water there, he\n",
            "seemed strangely mounting to the sea as the magnetic seas, which he had never been stepped about\n",
            "to have a good conditional impertinent was a good just power, the sea bears a harpooneer in the patience of\n",
            "the country. I have no doubt that is all. I have not a communication like them?”\n",
            "\n",
            "“And have you the chance to myself,” said he, “that of all sides is in the clear midnight defection.\n"
          ],
          "name": "stdout"
        }
      ]
    },
    {
      "cell_type": "code",
      "metadata": {
        "id": "eAHLqW0W8GAd",
        "outputId": "25099240-5a8d-4c89-a2d7-4dfa63bf6621",
        "colab": {
          "base_uri": "https://localhost:8080/",
          "height": 175
        }
      },
      "source": [
        "test2 = generate_text(predictor, \"When about a hundred yards from the pool I heard a cry of Cooee! which was a usual \")\n",
        "print(test2)"
      ],
      "execution_count": 118,
      "outputs": [
        {
          "output_type": "stream",
          "text": [
            "When about a hundred yards from the pool I heard a cry of Cooee! which was a usual servant among the most interesting to it. It is\n",
            "a subject, that when he left the room swiftly sly, perpendicularly and unaccountable\n",
            "to affair where the living harpoon may be similar to\n",
            "the interview.\n",
            "\n",
            "“As the great living flowers they were born, and in that subterraneous horrible way, as a sudden snap and\n",
            "sleep in the continents of the whale, and removed the bell, and the white brow is\n",
            "buttoned up to him seemed to have been considered a strange tent with a man in a supply of the\n",
            "same precious f\n"
          ],
          "name": "stdout"
        }
      ]
    },
    {
      "cell_type": "code",
      "metadata": {
        "id": "2ywa4jMZ8Qn5",
        "outputId": "ef53ba35-302e-465a-b705-202ecb5fd50d",
        "colab": {
          "base_uri": "https://localhost:8080/",
          "height": 158
        }
      },
      "source": [
        "test3 = generate_text(predictor, \"To be honest, I \")\n",
        "print(test3)"
      ],
      "execution_count": 124,
      "outputs": [
        {
          "output_type": "stream",
          "text": [
            "To be honest, I thought that it would be to\n",
            "prevent your connection at the bank when I was the same that\n",
            "had been seen steering on the ship’s room, he said, to my assure that we are all simplication, I shall\n",
            "continue to be a simple case in the morning and laugh. I shall be my own\n",
            "master? I will read the least into the singular scheme of the\n",
            "morning of the traveller. It is the whale which may not be absolutely copied on that young\n",
            "principle; though in last men are the first that the boys were left in the\n",
            "steps, \n"
          ],
          "name": "stdout"
        }
      ]
    },
    {
      "cell_type": "markdown",
      "metadata": {
        "id": "7Fn3Lt2390V0"
      },
      "source": [
        "## Training Plots"
      ]
    },
    {
      "cell_type": "markdown",
      "metadata": {
        "id": "Rt3ixPWHjPSI"
      },
      "source": [
        "As we can see in the plots below, the model reached its peak around the 60th Epoch, with a precision of 72%."
      ]
    },
    {
      "cell_type": "code",
      "metadata": {
        "id": "KPIznYjx93Ni",
        "outputId": "940dccf4-f5fb-4760-8a62-f67448728e12",
        "colab": {
          "base_uri": "https://localhost:8080/",
          "height": 499
        }
      },
      "source": [
        "acc = history.history['accuracy']\n",
        "loss=history.history['loss']\n",
        "\n",
        "epochs_range = range(EPOCHS)\n",
        "\n",
        "plt.figure(figsize=(8, 8))\n",
        "plt.subplot(1, 2, 1)\n",
        "plt.plot(epochs_range, acc)\n",
        "plt.title('Training Accuracy')\n",
        "\n",
        "plt.subplot(1, 2, 2)\n",
        "plt.plot(epochs_range, loss)\n",
        "plt.title('Training Loss')\n",
        "plt.show()"
      ],
      "execution_count": 126,
      "outputs": [
        {
          "output_type": "display_data",
          "data": {
            "image/png": "[encoded data removed]",
            "text/plain": [
              "<Figure size 576x576 with 2 Axes>"
            ]
          },
          "metadata": {
            "tags": [],
            "needs_background": "light"
          }
        }
      ]
    }
  ]
}